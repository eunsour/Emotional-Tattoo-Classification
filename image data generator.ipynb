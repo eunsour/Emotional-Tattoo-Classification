{
 "cells": [
  {
   "cell_type": "markdown",
   "metadata": {},
   "source": [
    "### image data generator"
   ]
  },
  {
   "cell_type": "code",
   "execution_count": null,
   "metadata": {
    "scrolled": true
   },
   "outputs": [],
   "source": [
    "import numpy as np\n",
    "import os\n",
    "from os import listdir\n",
    "from os.path import isfile, join\n",
    "from PIL import Image\n",
    "from keras.preprocessing.image import ImageDataGenerator, array_to_img, img_to_array, load_img\n",
    " \n",
    "np.random.seed(3) \n",
    " \n",
    "data_datagen = ImageDataGenerator(rescale=1./255,\n",
    "                                 rotation_range = 1,\n",
    "                                 width_shift_range=0.01,\n",
    "                                 height_shift_range=0.01,\n",
    "                                 shear_range=0,\n",
    "                                 zoom_range=0.1,\n",
    "                                 horizontal_flip=False,\n",
    "                                 vertical_flip=False,\n",
    "                                 fill_mode='nearest'\n",
    "                                 )\n",
    " \n",
    "filename_in_dir = [] \n",
    "\n",
    "for root, dirs, files in os.walk('./추려봄/하트/'):\n",
    "    for  fname in files:\n",
    "        full_fname = os.path.join(root, fname)\n",
    "        filename_in_dir.append(full_fname)\n",
    "        \n",
    "for file_image in filename_in_dir:\n",
    "    print(file_image)\n",
    "    img = load_img(file_image) \n",
    "    x = img_to_array(img)\n",
    "    x = x.reshape((1,) + x.shape)\n",
    " \n",
    "    i = 0\n",
    " \n",
    "    for batch in data_datagen.flow(x,save_to_dir='./추려봄/하트/', save_prefix='heart', save_format='jpg'):\n",
    "        i += 1\n",
    "        if i > 3:\n",
    "            break"
   ]
  },
  {
   "cell_type": "code",
   "execution_count": null,
   "metadata": {},
   "outputs": [],
   "source": [
    "### image data generator\n",
    "\n",
    "import numpy as np\n",
    "import os\n",
    "from os import listdir\n",
    "from os.path import isfile, join\n",
    "from PIL import Image\n",
    "from keras.preprocessing.image import ImageDataGenerator, array_to_img, img_to_array, load_img\n",
    " \n",
    "np.random.seed(3) \n",
    " \n",
    "data_datagen = ImageDataGenerator(rescale=1./255,\n",
    "                                 rotation_range = 1,\n",
    "                                 width_shift_range=0.01,\n",
    "                                 height_shift_range=0.01,\n",
    "                                 shear_range=0,\n",
    "                                 zoom_range=0.1,\n",
    "                                 horizontal_flip=False,\n",
    "                                 vertical_flip=False,\n",
    "                                 fill_mode='nearest'\n",
    "                                 )\n",
    " \n",
    "filename_in_dir = [] \n",
    "\n",
    "for root, dirs, files in os.walk('./추려봄/하트/'):\n",
    "    for  fname in files:\n",
    "        full_fname = os.path.join(root, fname)\n",
    "        filename_in_dir.append(full_fname)\n",
    "        \n",
    "for file_image in filename_in_dir:\n",
    "    print(file_image)\n",
    "    img = load_img(file_image) \n",
    "    x = img_to_array(img)\n",
    "    x = x.reshape((1,) + x.shape)\n",
    " \n",
    "    i = 0\n",
    " \n",
    "    for batch in data_datagen.flow(x,save_to_dir='./추려봄/하트/', save_prefix='heart', save_format='jpg'):\n",
    "        i += 1\n",
    "        if i > 3:\n",
    "            break"
   ]
  }
 ],
 "metadata": {
  "kernelspec": {
   "display_name": "Python 3",
   "language": "python",
   "name": "python3"
  },
  "language_info": {
   "codemirror_mode": {
    "name": "ipython",
    "version": 3
   },
   "file_extension": ".py",
   "mimetype": "text/x-python",
   "name": "python",
   "nbconvert_exporter": "python",
   "pygments_lexer": "ipython3",
   "version": "3.7.6"
  }
 },
 "nbformat": 4,
 "nbformat_minor": 4
}
